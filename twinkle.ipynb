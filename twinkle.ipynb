{
 "cells": [
  {
   "cell_type": "code",
   "execution_count": 1,
   "id": "d27b4483-b109-43eb-8c14-f72fc486769a",
   "metadata": {},
   "outputs": [],
   "source": [
    "import numpy as np\n",
    "from scipy.io import wavfile\n",
    "import utils"
   ]
  },
  {
   "cell_type": "code",
   "execution_count": 2,
   "id": "6e36e8b1-a6fa-4f2f-9182-9c8275d56991",
   "metadata": {},
   "outputs": [],
   "source": [
    "right_hand_notes = ['C4', 'C4', 'G4', 'G4',\n",
    "                   'A4', 'A4', 'G4',\n",
    "                   'F4', 'F4', 'E4', 'E4',\n",
    "                   'D4', 'D4', 'C4',\n",
    "                   'G4', 'G4', 'F4', 'F4',\n",
    "                   'E4', 'E4', 'D4',\n",
    "                   'G4', 'G4', 'F4', 'F4',\n",
    "                   'E4', 'E4', 'D4',\n",
    "                   'C4', 'C4', 'G4', 'G4',\n",
    "                   'A4', 'A4', 'G4',\n",
    "                   'F4', 'F4', 'E4', 'E4',\n",
    "                   'D4', 'D4', 'C4',]"
   ]
  },
  {
   "cell_type": "code",
   "execution_count": 3,
   "id": "f9206d3c-58c4-4815-982f-14d5ce56097b",
   "metadata": {},
   "outputs": [],
   "source": [
    "left_hand_notes = ['C3',\n",
    "                  'A3',\n",
    "                  'F3',\n",
    "                  'D3', 'C3',\n",
    "                  'G3', 'F3',\n",
    "                  'E3', 'D3',\n",
    "                  'G3', 'F3',\n",
    "                  'E3', 'D3',\n",
    "                  'C3', 'E3', 'G3', 'C4',\n",
    "                  'A3', 'A3', 'G3',\n",
    "                  'F3', 'B2', 'E3', 'C3',\n",
    "                  'D3', 'D3', 'C3']"
   ]
  },
  {
   "cell_type": "code",
   "execution_count": 4,
   "id": "493d514c-d763-4b09-9e75-89d160bf2ec7",
   "metadata": {},
   "outputs": [],
   "source": [
    "left_hand_duration = [2,\n",
    "                      2,\n",
    "                      2,\n",
    "                      1, 1,\n",
    "                      1, 1,\n",
    "                      1, 1,\n",
    "                      1, 1,\n",
    "                      1, 1,\n",
    "                      0.5, 0.5, 0.5, 0.5,\n",
    "                      0.5, 0.5, 1,\n",
    "                      0.5, 0.5, 0.5, 0.5,\n",
    "                      0.5, 0.5, 1]"
   ]
  },
  {
   "cell_type": "code",
   "execution_count": 5,
   "id": "6082aa8a-41b7-4282-b0e1-4b5c2b18978c",
   "metadata": {},
   "outputs": [],
   "source": [
    "right_hand_duration = [0.5, 0.5, 0.5, 0.5,\n",
    "                       0.5, 0.5, 1]*6"
   ]
  },
  {
   "cell_type": "code",
   "execution_count": 6,
   "id": "bc9abb8e-7f60-455f-9194-931334cef6c1",
   "metadata": {},
   "outputs": [],
   "source": [
    "factor = [0.68, 0.26, 0.03, 0.  , 0.03]\n",
    "length = [0.01, 0.6, 0.29, 0.1]\n",
    "decay = [0.05,0.02,0.005,0.1]\n",
    "sustain_level = 0.1\n",
    "right_hand = utils.get_song_data(right_hand_notes, right_hand_duration, 2,\n",
    "                                 factor, length, decay, sustain_level)"
   ]
  },
  {
   "cell_type": "code",
   "execution_count": 7,
   "id": "c098d488-0bdd-4527-b342-a2af3541b47c",
   "metadata": {},
   "outputs": [],
   "source": [
    "factor = [0.73, 0.16, 0.06, 0.01, 0.02, 0.01  , 0.01]\n",
    "length = [0.01, 0.29, 0.6, 0.1]\n",
    "decay = [0.05,0.02,0.005,0.1]\n",
    "left_hand = utils.get_song_data(left_hand_notes, left_hand_duration, 2,\n",
    "                                 factor, length, decay, sustain_level)"
   ]
  },
  {
   "cell_type": "code",
   "execution_count": 8,
   "id": "34867d0a-15a6-47d9-a06f-88327bc4db3c",
   "metadata": {},
   "outputs": [],
   "source": [
    "data = left_hand+right_hand\n",
    "data = data * (4096/np.max(data))\n",
    "wavfile.write('database/audio/twinkle_star.wav', 44100, data.astype(np.int16))"
   ]
  },
  {
   "cell_type": "code",
   "execution_count": null,
   "id": "56e0e117-de3f-41dc-85a5-f4ed52fb6904",
   "metadata": {},
   "outputs": [],
   "source": []
  }
 ],
 "metadata": {
  "kernelspec": {
   "display_name": "Python 3 (ipykernel)",
   "language": "python",
   "name": "python3"
  },
  "language_info": {
   "codemirror_mode": {
    "name": "ipython",
    "version": 3
   },
   "file_extension": ".py",
   "mimetype": "text/x-python",
   "name": "python",
   "nbconvert_exporter": "python",
   "pygments_lexer": "ipython3",
   "version": "3.8.10"
  }
 },
 "nbformat": 4,
 "nbformat_minor": 5
}
