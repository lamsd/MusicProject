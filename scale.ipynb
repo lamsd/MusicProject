{
 "cells": [
  {
   "cell_type": "code",
   "execution_count": 1,
   "id": "c0402ef8-f556-427a-8894-1dbacebc730a",
   "metadata": {},
   "outputs": [],
   "source": [
    "import numpy as np\n",
    "from scipy.io import wavfile\n",
    "import utils"
   ]
  },
  {
   "cell_type": "code",
   "execution_count": 2,
   "id": "265213ed-dabc-4ff3-a1a4-3a13c4daf6f8",
   "metadata": {},
   "outputs": [],
   "source": [
    "scale = ['C4','D4','E4','F4','G4','A4','B4','C5']\n",
    "note_values = [0.5]*8\n",
    "factor = [0.68, 0.26, 0.03, 0.  , 0.03]\n",
    "length = [0.01, 0.6, 0.29, 0.1]\n",
    "decay = [0.05,0.02,0.005,0.1]\n",
    "sustain_level = 0.1"
   ]
  },
  {
   "cell_type": "code",
   "execution_count": 3,
   "id": "f84ef253-744d-4065-8611-ede3ceb12816",
   "metadata": {},
   "outputs": [],
   "source": [
    "# Without sustain (each note in separate bar)\n",
    "scale_plain = utils.get_song_data(scale, note_values, bar_value=0.5,\n",
    "                                 factor=factor, length=length, decay=decay, \n",
    "                                 sustain_level=sustain_level)\n",
    "scale_plain = scale_plain * (4096/np.max(scale_plain))\n",
    "wavfile.write('database/audio/scale_plain.wav', 44100, scale_plain.astype(np.int16))"
   ]
  },
  {
   "cell_type": "code",
   "execution_count": 4,
   "id": "ff4126c5-6fab-4d6f-bad8-de1de37d4355",
   "metadata": {},
   "outputs": [],
   "source": [
    "# With sustain (all note in one bar)\n",
    "scale_sustain = utils.get_song_data(scale, note_values, bar_value=4,\n",
    "                                 factor=factor, length=length, decay=decay, \n",
    "                                 sustain_level=sustain_level)\n",
    "scale_sustain = scale_sustain * (4096/np.max(scale_sustain))\n",
    "wavfile.write('database/audio/scale_sustain.wav', 44100, scale_sustain.astype(np.int16))"
   ]
  },
  {
   "cell_type": "code",
   "execution_count": null,
   "id": "e72df123-640f-4c84-a008-3f3b5768cbfa",
   "metadata": {},
   "outputs": [],
   "source": []
  }
 ],
 "metadata": {
  "kernelspec": {
   "display_name": "Python 3 (ipykernel)",
   "language": "python",
   "name": "python3"
  },
  "language_info": {
   "codemirror_mode": {
    "name": "ipython",
    "version": 3
   },
   "file_extension": ".py",
   "mimetype": "text/x-python",
   "name": "python",
   "nbconvert_exporter": "python",
   "pygments_lexer": "ipython3",
   "version": "3.8.10"
  }
 },
 "nbformat": 4,
 "nbformat_minor": 5
}
